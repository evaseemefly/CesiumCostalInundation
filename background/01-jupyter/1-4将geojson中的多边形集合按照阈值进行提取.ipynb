{
 "cells": [
  {
   "cell_type": "code",
   "execution_count": 1,
   "metadata": {},
   "outputs": [],
   "source": [
    "import json"
   ]
  },
  {
   "cell_type": "code",
   "execution_count": 2,
   "metadata": {},
   "outputs": [],
   "source": [
    "var_name='最大淹没深度(cm)'"
   ]
  },
  {
   "cell_type": "code",
   "execution_count": 4,
   "metadata": {},
   "outputs": [
    {
     "name": "stdout",
     "output_type": "stream",
     "text": [
      "Filtered GeoJSON saved to ./../../data/zmax_output_lte_150.json\n"
     ]
    }
   ],
   "source": [
    "\n",
    "# 假设你有一个GeoJSON文件，文件名为 'input.geojson'\n",
    "input_file = r\"./../../data/zmax_center.json\"\n",
    "output_file = r\"./../../data/zmax_output_lte_150.json\"\n",
    "\n",
    "# 读取GeoJSON数据\n",
    "with open(input_file, 'r') as f:\n",
    "    data = json.load(f)\n",
    "\n",
    "# 过滤多边形，提取'surge'大于150的特征\n",
    "filtered_features = [\n",
    "    feature for feature in data['features']\n",
    "    if feature['properties'].get(var_name, 0) > 150\n",
    "]\n",
    "\n",
    "# 创建新的GeoJSON结构\n",
    "filtered_geojson = {\n",
    "    \"type\": \"FeatureCollection\",\n",
    "    \"features\": filtered_features\n",
    "}\n",
    "\n",
    "# 将过滤后的数据写入新的GeoJSON文件\n",
    "with open(output_file, 'w') as f:\n",
    "    json.dump(filtered_geojson, f, indent=2)\n",
    "\n",
    "print(f\"Filtered GeoJSON saved to {output_file}\")"
   ]
  },
  {
   "cell_type": "code",
   "execution_count": null,
   "metadata": {},
   "outputs": [],
   "source": []
  }
 ],
 "metadata": {
  "kernelspec": {
   "display_name": "geopandas_env",
   "language": "python",
   "name": "python3"
  },
  "language_info": {
   "codemirror_mode": {
    "name": "ipython",
    "version": 3
   },
   "file_extension": ".py",
   "mimetype": "text/x-python",
   "name": "python",
   "nbconvert_exporter": "python",
   "pygments_lexer": "ipython3",
   "version": "3.13.0"
  }
 },
 "nbformat": 4,
 "nbformat_minor": 2
}
