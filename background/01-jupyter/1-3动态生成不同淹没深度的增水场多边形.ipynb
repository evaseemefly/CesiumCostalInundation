{
 "cells": [
  {
   "cell_type": "code",
   "execution_count": 1,
   "metadata": {},
   "outputs": [],
   "source": [
    "import os\n",
    "import pandas as pd\n",
    "import numpy as np\n",
    "import pathlib\n",
    "import xarray as xr\n",
    "import rioxarray\n"
   ]
  },
  {
   "cell_type": "code",
   "execution_count": 2,
   "metadata": {},
   "outputs": [],
   "source": [
    "import geopandas as gpd"
   ]
  },
  {
   "cell_type": "code",
   "execution_count": 3,
   "metadata": {},
   "outputs": [],
   "source": [
    "read_file_path: str = r\"./../../data/zmax_center.json\"\n",
    "\"\"\"读取文件\"\"\"\n",
    "data = gpd.read_file(read_file_path)"
   ]
  },
  {
   "cell_type": "code",
   "execution_count": 4,
   "metadata": {},
   "outputs": [],
   "source": [
    "var_name='最大淹没深度(cm)'"
   ]
  },
  {
   "cell_type": "code",
   "execution_count": 5,
   "metadata": {},
   "outputs": [],
   "source": [
    "surge_values = data[var_name].values"
   ]
  },
  {
   "cell_type": "markdown",
   "metadata": {},
   "source": [
    "-----"
   ]
  },
  {
   "cell_type": "markdown",
   "metadata": {},
   "source": [
    "#### 优化效率"
   ]
  },
  {
   "cell_type": "code",
   "execution_count": 8,
   "metadata": {},
   "outputs": [],
   "source": [
    "# 定义网格长宽\n",
    "L = 0.0005  # 例如，0.001度的网格"
   ]
  },
  {
   "cell_type": "markdown",
   "metadata": {},
   "source": [
    "2min45s"
   ]
  },
  {
   "cell_type": "code",
   "execution_count": 9,
   "metadata": {},
   "outputs": [],
   "source": [
    "import geopandas as gpd\n",
    "import xarray as xr\n",
    "import numpy as np\n",
    "from shapely.geometry import box\n",
    "\n",
    "# 读取GeoJSON文件\n",
    "gdf = gpd.read_file(read_file_path)\n",
    "\n",
    "\n",
    "# 获取整个区域的边界\n",
    "minx, miny, maxx, maxy = gdf.total_bounds\n",
    "\n",
    "# 生成网格\n",
    "x_coords = np.arange(minx, maxx, L)\n",
    "y_coords = np.arange(miny, maxy, L)\n",
    "\n",
    "# 创建一个空的二维数组来存储网格数据\n",
    "grid_data = np.full((len(y_coords), len(x_coords)), np.nan)\n",
    "\n",
    "# 创建空间索引\n",
    "spatial_index = gdf.sindex\n",
    "\n",
    "# 遍历网格\n",
    "for i, x in enumerate(x_coords):\n",
    "    for j, y in enumerate(y_coords):\n",
    "        cell = box(x, y, x + L, y + L)\n",
    "        \n",
    "        # 使用空间索引查找可能相交的多边形\n",
    "        possible_matches_index = list(spatial_index.intersection(cell.bounds))\n",
    "        possible_matches = gdf.iloc[possible_matches_index]\n",
    "        \n",
    "        # 检查实际相交的多边形\n",
    "        for _, row in possible_matches.iterrows():\n",
    "            if row.geometry.intersects(cell):\n",
    "                grid_data[j, i] = row[var_name]\n",
    "                break  # 一旦找到一个相交的多边形，就可以退出循环\n",
    "\n",
    "# 创建xarray.Dataset\n",
    "ds = xr.Dataset(\n",
    "    {\n",
    "        \"surge\": ((\"y\", \"x\"), grid_data)\n",
    "    },\n",
    "    coords={\n",
    "        \"x\": x_coords,\n",
    "        \"y\": y_coords\n",
    "    }\n",
    ")\n",
    "\n"
   ]
  },
  {
   "cell_type": "code",
   "execution_count": 10,
   "metadata": {},
   "outputs": [],
   "source": [
    "# 检查纬度是否为降序\n",
    "if not np.all(np.diff(ds['y'].values) < 0):\n",
    "    # 如果不是降序，重新排序纬度\n",
    "    ds = ds.sortby('y', ascending=False)"
   ]
  },
  {
   "cell_type": "code",
   "execution_count": 19,
   "metadata": {},
   "outputs": [],
   "source": [
    "out_put_path:str='./../../data/zmax_desc_1114.nc'\n",
    "ds.to_netcdf(out_put_path)"
   ]
  },
  {
   "cell_type": "markdown",
   "metadata": {},
   "source": [
    "#### step2: 将dataset 按照小于1.0，小于1.5进行筛选，并存储为geotiff"
   ]
  },
  {
   "cell_type": "code",
   "execution_count": 11,
   "metadata": {},
   "outputs": [],
   "source": [
    "THRESHOLD=150"
   ]
  },
  {
   "cell_type": "code",
   "execution_count": 12,
   "metadata": {},
   "outputs": [],
   "source": [
    "ds['surge'] = ds['surge'].where(ds['surge'] > THRESHOLD, np.nan)"
   ]
  },
  {
   "cell_type": "code",
   "execution_count": 13,
   "metadata": {},
   "outputs": [],
   "source": [
    "ds.to_netcdf('./../../data/zmax_lte_150.nc')"
   ]
  },
  {
   "cell_type": "code",
   "execution_count": 14,
   "metadata": {},
   "outputs": [],
   "source": [
    "import numpy as np\n",
    "import xarray as xr\n",
    "import rasterio\n",
    "from rasterio.transform import from_origin\n",
    "\n",
    "# 假设 ds 是之前创建并过滤后的 xarray.Dataset\n",
    "\n",
    "# 获取坐标和数据\n",
    "surge_data = ds['surge'].values\n",
    "x_coords = ds['x'].values\n",
    "y_coords = ds['y'].values\n",
    "\n",
    "# 定义仿射变换\n",
    "transform = from_origin(min(x_coords), max(y_coords), x_coords[1] - x_coords[0], y_coords[1] - y_coords[0])\n",
    "\n",
    "# 定义元数据\n",
    "meta = {\n",
    "    'driver': 'GTiff',\n",
    "    'dtype': 'float32',\n",
    "    'nodata': np.nan,\n",
    "    'width': len(x_coords),\n",
    "    'height': len(y_coords),\n",
    "    'count': 1,  # 单波段\n",
    "    'crs': 'EPSG:4326',  # 假设使用WGS84坐标系\n",
    "    'transform': transform\n",
    "}\n",
    "\n",
    "# 反转 y 轴的数据，因为 GeoTIFF 的原点在左上角\n",
    "# TODO [-] 由于已经对原始数据对纬度进行降序排列，此处不需要再反转\n",
    "# surge_data_flipped = np.flipud(surge_data)\n",
    "\n",
    "# 写入 GeoTIFF 文件\n",
    "with rasterio.open('./../../data/zmax_desc_lte_150.tif', 'w', **meta) as dst:\n",
    "    dst.write(surge_data, 1)"
   ]
  },
  {
   "cell_type": "code",
   "execution_count": 15,
   "metadata": {},
   "outputs": [],
   "source": [
    "lon=ds.coords['x']\n",
    "lat=ds.coords['y']"
   ]
  },
  {
   "cell_type": "code",
   "execution_count": 16,
   "metadata": {},
   "outputs": [],
   "source": [
    "lon_max=max(lon.values)\n",
    "lon_min=min(lon.values)\n",
    "lat_max=max(lat.values)\n",
    "lat_min=min(lat.values)\n"
   ]
  },
  {
   "cell_type": "markdown",
   "metadata": {},
   "source": [
    "step 3-2：生成边界并提取为多边形"
   ]
  },
  {
   "cell_type": "code",
   "execution_count": 17,
   "metadata": {},
   "outputs": [],
   "source": [
    "from shapely.ops import unary_union\n",
    "import numpy as np\n",
    "import rasterio\n",
    "from rasterio.features import shapes\n",
    "from shapely.geometry import shape, mapping\n",
    "import json"
   ]
  },
  {
   "cell_type": "code",
   "execution_count": 18,
   "metadata": {},
   "outputs": [],
   "source": [
    "data_array=ds['surge'].values"
   ]
  },
  {
   "cell_type": "code",
   "execution_count": 19,
   "metadata": {},
   "outputs": [],
   "source": [
    "# 创建掩码，标识非 NaN 的区域\n",
    "mask = ~np.isnan(data_array)\n",
    "\n",
    "# 使用 rasterio 和 shapes 提取多边形\n",
    "transform = rasterio.transform.from_bounds(lon_min, lat_min, lon_max, lat_max, len(lon), len(lat))\n"
   ]
  },
  {
   "cell_type": "code",
   "execution_count": 20,
   "metadata": {},
   "outputs": [],
   "source": [
    "\n",
    "with rasterio.io.MemoryFile() as memfile:\n",
    "    with memfile.open(\n",
    "        driver='GTiff',\n",
    "        height=data_array.shape[0],\n",
    "        width=data_array.shape[1],\n",
    "        count=1,\n",
    "        dtype=data_array.dtype,\n",
    "        crs='EPSG:4326',  # 使用 WGS84 坐标系\n",
    "        transform=transform\n",
    "    ) as dataset:\n",
    "        dataset.write(data_array, 1)\n",
    "\n",
    "        # 将栅格数据转换为矢量多边形\n",
    "        results = (\n",
    "            {'properties': {'raster_val': v}, 'geometry': s}\n",
    "            for i, (s, v) \n",
    "            in enumerate(shapes(data_array, mask=mask, transform=dataset.transform))\n",
    "        )\n",
    "\n",
    "        # 提取所有多边形\n",
    "        polygons = [shape(feature['geometry']) for feature in results]\n",
    "\n",
    "        # 合并多边形\n",
    "        merged_polygon = unary_union(polygons)"
   ]
  },
  {
   "cell_type": "code",
   "execution_count": 21,
   "metadata": {},
   "outputs": [],
   "source": [
    "# 准备 GeoJSON 数据\n",
    "geojson = {\n",
    "    \"type\": \"FeatureCollection\",\n",
    "    \"features\": [\n",
    "        {\n",
    "            \"type\": \"Feature\",\n",
    "            \"properties\": {},\n",
    "            \"geometry\": mapping(merged_polygon)\n",
    "        }\n",
    "    ]\n",
    "}\n",
    "\n",
    "# 保存为 GeoJSON 文件\n",
    "with open('./../../data/zmax_lte_desc_150.json', 'w') as f:\n",
    "    json.dump(geojson, f)\n",
    "\n",
    "# print(\"GeoJSON 文件已生成：output_polygon.geojson\")"
   ]
  },
  {
   "cell_type": "markdown",
   "metadata": {},
   "source": [
    "### step4 : 对多边形进行平滑处理"
   ]
  },
  {
   "cell_type": "code",
   "execution_count": 23,
   "metadata": {},
   "outputs": [],
   "source": [
    "import numpy as np\n",
    "from scipy.interpolate import splprep, splev\n",
    "from shapely.geometry import Polygon\n",
    "import matplotlib.pyplot as plt"
   ]
  },
  {
   "cell_type": "code",
   "execution_count": 24,
   "metadata": {},
   "outputs": [],
   "source": [
    "def smooth_polygon(polygon, s=2):\n",
    "    # 提取多边形的外环坐标\n",
    "    x, y = polygon.exterior.coords.xy\n",
    "    tck, u = splprep([x, y], s=0, per=True)  # per=True 使得多边形闭合\n",
    "    unew = np.linspace(0, 1.0, len(x) * 20)  # 增加插值点数\n",
    "    out = splev(unew, tck)\n",
    "    source_polygon = Polygon(zip(out[0], out[1]))\n",
    "    if source_polygon.is_valid == False:\n",
    "        source_polygon = source_polygon.buffer(0)\n",
    "    return source_polygon\n",
    "\n",
    "\n",
    "# 对每个多边形进行平滑处理\n",
    "smoothed_polygons = [smooth_polygon(poly) for poly in polygons]"
   ]
  },
  {
   "cell_type": "code",
   "execution_count": 25,
   "metadata": {},
   "outputs": [],
   "source": [
    "merged_smoothed_polygons = unary_union(smoothed_polygons)"
   ]
  },
  {
   "cell_type": "code",
   "execution_count": 26,
   "metadata": {},
   "outputs": [],
   "source": [
    "# 准备 GeoJSON 数据\n",
    "geojson = {\n",
    "    \"type\": \"FeatureCollection\",\n",
    "    \"features\": [\n",
    "        {\n",
    "            \"type\": \"Feature\",\n",
    "            \"properties\": {},\n",
    "            \"geometry\": mapping(merged_smoothed_polygons)\n",
    "        }\n",
    "    ]\n",
    "}\n"
   ]
  },
  {
   "cell_type": "code",
   "execution_count": 27,
   "metadata": {},
   "outputs": [],
   "source": [
    "# TypeError: Object of type Polygon is not JSON serializable\n",
    "# 保存为 GeoJSON 文件\n",
    "with open('./../../data/zmax_lte_desc_lte_150_smooth_100_b_20.json', 'w') as f:\n",
    "    json.dump(geojson, f)\n"
   ]
  },
  {
   "cell_type": "code",
   "execution_count": null,
   "metadata": {},
   "outputs": [],
   "source": []
  }
 ],
 "metadata": {
  "kernelspec": {
   "display_name": "geopandas_env",
   "language": "python",
   "name": "python3"
  },
  "language_info": {
   "codemirror_mode": {
    "name": "ipython",
    "version": 3
   },
   "file_extension": ".py",
   "mimetype": "text/x-python",
   "name": "python",
   "nbconvert_exporter": "python",
   "pygments_lexer": "ipython3",
   "version": "3.13.0"
  }
 },
 "nbformat": 4,
 "nbformat_minor": 2
}
